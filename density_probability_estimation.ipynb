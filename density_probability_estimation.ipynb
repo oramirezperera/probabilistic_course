{
  "nbformat": 4,
  "nbformat_minor": 0,
  "metadata": {
    "colab": {
      "name": "density_probability_estimation.ipynb",
      "provenance": [],
      "authorship_tag": "ABX9TyOVdfhxQiM1v20Ip8VHoRwn",
      "include_colab_link": true
    },
    "kernelspec": {
      "name": "python3",
      "display_name": "Python 3"
    },
    "language_info": {
      "name": "python"
    }
  },
  "cells": [
    {
      "cell_type": "markdown",
      "metadata": {
        "id": "view-in-github",
        "colab_type": "text"
      },
      "source": [
        "<a href=\"https://colab.research.google.com/github/oramirezperera/probabilistic_course/blob/main/density_probability_estimation.ipynb\" target=\"_parent\"><img src=\"https://colab.research.google.com/assets/colab-badge.svg\" alt=\"Open In Colab\"/></a>"
      ]
    },
    {
      "cell_type": "code",
      "metadata": {
        "id": "lM8KV6MIjbm_"
      },
      "source": [
        "import numpy as np\n",
        "from matplotlib import pyplot\n",
        "from numpy.random import normal\n",
        "from scipy.stats import norm"
      ],
      "execution_count": 1,
      "outputs": []
    },
    {
      "cell_type": "code",
      "metadata": {
        "colab": {
          "base_uri": "https://localhost:8080/",
          "height": 265
        },
        "id": "XzPSIhPIk8nC",
        "outputId": "8004c855-90bb-43ee-95ac-4465ed26bc34"
      },
      "source": [
        "sample = normal(size= 10000) #generator\n",
        "pyplot.hist(sample, bins=30)\n",
        "pyplot.show()"
      ],
      "execution_count": 3,
      "outputs": [
        {
          "output_type": "display_data",
          "data": {
            "image/png": "[encoded data removed]",
            "text/plain": [
              "<Figure size 432x288 with 1 Axes>"
            ]
          },
          "metadata": {
            "tags": [],
            "needs_background": "light"
          }
        }
      ]
    },
    {
      "cell_type": "markdown",
      "metadata": {
        "id": "4silbZFQmJVU"
      },
      "source": [
        "## Parametric estimation"
      ]
    },
    {
      "cell_type": "code",
      "metadata": {
        "colab": {
          "base_uri": "https://localhost:8080/",
          "height": 265
        },
        "id": "9dnDjNK4llrk",
        "outputId": "a47f36a2-c791-4206-e961-054f0d0a01fb"
      },
      "source": [
        "sample = normal(loc=50, scale=5, size=1000) # mu=50 (mean), sigma=5(standar deviation)\n",
        "mu = sample.mean()\n",
        "sigma = sample.std()\n",
        "dist = norm(mu, sigma)\n",
        "values = [value for value in range(30, 70)]\n",
        "probabilities = [dist.pdf(value) for value in values]\n",
        "pyplot.hist(sample, bins=30, density=True)\n",
        "pyplot.plot(values, probabilities)\n",
        "pyplot.show() "
      ],
      "execution_count": 4,
      "outputs": [
        {
          "output_type": "display_data",
          "data": {
            "image/png": "[encoded data removed]",
            "text/plain": [
              "<Figure size 432x288 with 1 Axes>"
            ]
          },
          "metadata": {
            "tags": [],
            "needs_background": "light"
          }
        }
      ]
    },
    {
      "cell_type": "markdown",
      "metadata": {
        "id": "_3RLR_ORoMlW"
      },
      "source": [
        "## Non-Parametric estimation"
      ]
    },
    {
      "cell_type": "markdown",
      "metadata": {
        "id": "GpTHVE3hoTaz"
      },
      "source": [
        "Kernel density estimation\n",
        "smoothing parameter\n",
        "basis function\n",
        "https://scikit-learn.org/stable/modules/density.html"
      ]
    },
    {
      "cell_type": "code",
      "metadata": {
        "colab": {
          "base_uri": "https://localhost:8080/"
        },
        "id": "ZuIufILqoL9c",
        "outputId": "df6ab80c-5d78-496f-8e0a-ff0e868b4d62"
      },
      "source": [
        "from numpy import hstack\n",
        "from sklearn.neighbors import KernelDensity\n",
        "\n",
        "# Creating a bimodal distribution\n",
        "sample1 = normal(loc=20, scale=5, size=300)\n",
        "sample2 = normal(loc=40, scale=5, size=700)\n",
        "sample = hstack((sample1, sample2))\n",
        "\n",
        "model = KernelDensity(bandwidth=2, kernel='gaussian')\n",
        "sample = sample.reshape((len(sample), 1))\n",
        "model.fit(sample)"
      ],
      "execution_count": 10,
      "outputs": [
        {
          "output_type": "execute_result",
          "data": {
            "text/plain": [
              "KernelDensity(algorithm='auto', atol=0, bandwidth=2, breadth_first=True,\n",
              "              kernel='gaussian', leaf_size=40, metric='euclidean',\n",
              "              metric_params=None, rtol=0)"
            ]
          },
          "metadata": {
            "tags": []
          },
          "execution_count": 10
        }
      ]
    },
    {
      "cell_type": "code",
      "metadata": {
        "colab": {
          "base_uri": "https://localhost:8080/",
          "height": 265
        },
        "id": "R1fwsriWqKt5",
        "outputId": "5a6091d2-b7a8-4e74-ad71-50658f213a65"
      },
      "source": [
        "values = np.asarray([value for value in range(1, 60)])\n",
        "values = values.reshape((len(values), 1))\n",
        "probabilities = model.score_samples(values) # logarithmic probability\n",
        "probabilities = np.exp(probabilities) # inverse probability\n",
        "\n",
        "pyplot.hist(sample, bins=50, density=True)\n",
        "pyplot.plot(values, probabilities)\n",
        "pyplot.show()"
      ],
      "execution_count": 12,
      "outputs": [
        {
          "output_type": "display_data",
          "data": {
            "image/png": "[encoded data removed]",
            "text/plain": [
              "<Figure size 432x288 with 1 Axes>"
            ]
          },
          "metadata": {
            "tags": [],
            "needs_background": "light"
          }
        }
      ]
    },
    {
      "cell_type": "markdown",
      "metadata": {
        "id": "yopi9B3ioTVu"
      },
      "source": [
        ""
      ]
    }
  ]
}