{
  "nbformat": 4,
  "nbformat_minor": 0,
  "metadata": {
    "colab": {
      "name": "binomial_distribution.ipynb",
      "provenance": [],
      "collapsed_sections": [],
      "authorship_tag": "ABX9TyNM/lONvk9utjM4ZiWdNQKu",
      "include_colab_link": true
    },
    "kernelspec": {
      "name": "python3",
      "display_name": "Python 3"
    },
    "language_info": {
      "name": "python"
    }
  },
  "cells": [
    {
      "cell_type": "markdown",
      "metadata": {
        "id": "view-in-github",
        "colab_type": "text"
      },
      "source": [
        "<a href=\"https://colab.research.google.com/github/oramirezperera/probabilistic_course/blob/main/binomial_distribution.ipynb\" target=\"_parent\"><img src=\"https://colab.research.google.com/assets/colab-badge.svg\" alt=\"Open In Colab\"/></a>"
      ]
    },
    {
      "cell_type": "code",
      "metadata": {
        "id": "0ty3zB5TM_5l"
      },
      "source": [
        "import numpy as np\n",
        "from numpy.random import binomial\n",
        "from scipy.stats import binom\n",
        "from math import factorial\n",
        "import matplotlib.pyplot as plt"
      ],
      "execution_count": 1,
      "outputs": []
    },
    {
      "cell_type": "markdown",
      "metadata": {
        "id": "-A31PfYOOoYi"
      },
      "source": [
        "https://docs.scipy.org/doc/numpy-1.14.1/_images/math/88748cdbc52cb4bbe3e4f58274c7ae9f731cd20a.svg\n",
        "[link text](https://docs.scipy.org/doc/numpy-1.14.1/_images/math/88748cdbc52cb4bbe3e4f58274c7ae9f731cd20a.svg)"
      ]
    },
    {
      "cell_type": "code",
      "metadata": {
        "id": "Kd5BrsxWOKZ9"
      },
      "source": [
        "def my_binomial(k, n, p):\n",
        "  return (factorial(n) / (factorial(k)*factorial(n-k))) * (pow(p,k)*pow(1-p,n-k))"
      ],
      "execution_count": 2,
      "outputs": []
    },
    {
      "cell_type": "code",
      "metadata": {
        "colab": {
          "base_uri": "https://localhost:8080/"
        },
        "id": "PD3-O2zYT7N3",
        "outputId": "367c84fd-0a45-4328-9517-4ffcdbcde514"
      },
      "source": [
        "my_binomial(2, 3, 0.5)"
      ],
      "execution_count": 3,
      "outputs": [
        {
          "output_type": "execute_result",
          "data": {
            "text/plain": [
              "0.375"
            ]
          },
          "metadata": {
            "tags": []
          },
          "execution_count": 3
        }
      ]
    },
    {
      "cell_type": "code",
      "metadata": {
        "colab": {
          "base_uri": "https://localhost:8080/"
        },
        "id": "b4t6oiT7UOea",
        "outputId": "b75e0a82-7935-4e6e-e500-42c3351578ad"
      },
      "source": [
        "dist = binom(3,0.5)\n",
        "dist.pmf(2) # this is an object and pmf is probability mass function"
      ],
      "execution_count": 4,
      "outputs": [
        {
          "output_type": "execute_result",
          "data": {
            "text/plain": [
              "0.375"
            ]
          },
          "metadata": {
            "tags": []
          },
          "execution_count": 4
        }
      ]
    },
    {
      "cell_type": "markdown",
      "metadata": {
        "id": "TbtZTeXAXFS0"
      },
      "source": [
        "Exercise P(k<= 2, n=3, p = 1/2) = 7/8"
      ]
    },
    {
      "cell_type": "code",
      "metadata": {
        "colab": {
          "base_uri": "https://localhost:8080/"
        },
        "id": "50rhLY2EXRt1",
        "outputId": "c612df81-9d9d-4e94-e9fe-b9930fb0a573"
      },
      "source": [
        "dist_ex = binom(3,0.5)\n",
        "dist.cdf(2) # cdf (cumulative density function)"
      ],
      "execution_count": 5,
      "outputs": [
        {
          "output_type": "execute_result",
          "data": {
            "text/plain": [
              "0.875"
            ]
          },
          "metadata": {
            "tags": []
          },
          "execution_count": 5
        }
      ]
    },
    {
      "cell_type": "markdown",
      "metadata": {
        "id": "x99oRN1oYA46"
      },
      "source": [
        "https://docs.scipy.org/doc/scipy/reference/generated/scipy.stats.binom.html\n",
        "all the methods of the scipy binom"
      ]
    },
    {
      "cell_type": "markdown",
      "metadata": {
        "id": "G5yUviuyYLh3"
      },
      "source": [
        "## Simulating sequencies with random generators\n",
        "\n",
        "The purpose of the random generator is to simulate a data sample from real life sampling processes like rolling dices or flipping coins"
      ]
    },
    {
      "cell_type": "markdown",
      "metadata": {
        "id": "5OhKfVDKZVe2"
      },
      "source": [
        "Simulating 100 flip of a non tricked coin\n",
        "You can run the next cell multiple times to see the variation in the results"
      ]
    },
    {
      "cell_type": "code",
      "metadata": {
        "colab": {
          "base_uri": "https://localhost:8080/"
        },
        "id": "zKMxdjrCXC_X",
        "outputId": "dd5983a4-f478-4199-9d99-194280020260"
      },
      "source": [
        "p = 0.5\n",
        "n = 3\n",
        "binomial(n,p)"
      ],
      "execution_count": 8,
      "outputs": [
        {
          "output_type": "execute_result",
          "data": {
            "text/plain": [
              "1"
            ]
          },
          "metadata": {
            "tags": []
          },
          "execution_count": 8
        }
      ]
    },
    {
      "cell_type": "code",
      "metadata": {
        "id": "TxUpb496arMA"
      },
      "source": [
        "arr = []\n",
        "for _ in range(101):\n",
        "  arr.append(binomial(n,p))"
      ],
      "execution_count": 9,
      "outputs": []
    },
    {
      "cell_type": "code",
      "metadata": {
        "colab": {
          "base_uri": "https://localhost:8080/"
        },
        "id": "-t-kUzsca8yg",
        "outputId": "59d6f7b8-a552-4ba8-b52c-5dbe71b57d52"
      },
      "source": [
        "arr"
      ],
      "execution_count": 10,
      "outputs": [
        {
          "output_type": "execute_result",
          "data": {
            "text/plain": [
              "[1,\n",
              " 0,\n",
              " 1,\n",
              " 2,\n",
              " 2,\n",
              " 0,\n",
              " 1,\n",
              " 2,\n",
              " 0,\n",
              " 2,\n",
              " 0,\n",
              " 0,\n",
              " 2,\n",
              " 2,\n",
              " 2,\n",
              " 2,\n",
              " 3,\n",
              " 2,\n",
              " 1,\n",
              " 1,\n",
              " 1,\n",
              " 3,\n",
              " 3,\n",
              " 2,\n",
              " 2,\n",
              " 1,\n",
              " 0,\n",
              " 2,\n",
              " 3,\n",
              " 3,\n",
              " 3,\n",
              " 1,\n",
              " 0,\n",
              " 2,\n",
              " 2,\n",
              " 1,\n",
              " 2,\n",
              " 2,\n",
              " 1,\n",
              " 1,\n",
              " 1,\n",
              " 1,\n",
              " 2,\n",
              " 1,\n",
              " 1,\n",
              " 1,\n",
              " 1,\n",
              " 0,\n",
              " 2,\n",
              " 2,\n",
              " 3,\n",
              " 3,\n",
              " 2,\n",
              " 3,\n",
              " 2,\n",
              " 2,\n",
              " 2,\n",
              " 1,\n",
              " 1,\n",
              " 0,\n",
              " 2,\n",
              " 1,\n",
              " 1,\n",
              " 2,\n",
              " 3,\n",
              " 2,\n",
              " 2,\n",
              " 1,\n",
              " 1,\n",
              " 1,\n",
              " 2,\n",
              " 0,\n",
              " 3,\n",
              " 1,\n",
              " 1,\n",
              " 0,\n",
              " 1,\n",
              " 0,\n",
              " 0,\n",
              " 1,\n",
              " 2,\n",
              " 1,\n",
              " 3,\n",
              " 1,\n",
              " 0,\n",
              " 1,\n",
              " 2,\n",
              " 2,\n",
              " 1,\n",
              " 2,\n",
              " 2,\n",
              " 0,\n",
              " 1,\n",
              " 2,\n",
              " 1,\n",
              " 2,\n",
              " 2,\n",
              " 2,\n",
              " 1,\n",
              " 0,\n",
              " 2]"
            ]
          },
          "metadata": {
            "tags": []
          },
          "execution_count": 10
        }
      ]
    },
    {
      "cell_type": "code",
      "metadata": {
        "id": "VYYyUASrbB5C"
      },
      "source": [
        "def plot_hist(num_trials):\n",
        "  values = [0,1,2,3]\n",
        "  arr = []\n",
        "  for _ in range(num_trials):\n",
        "    arr.append(binomial(n,p))\n",
        "  sim = np.unique(arr, return_counts=True)[1]/len(arr)\n",
        "  theoretical = [binom(3, 0.5).pmf(k) for k in values]\n",
        "  plt.bar(values, sim, color = 'blue')\n",
        "  plt.bar(values, theoretical, color = 'grey', alpha = 0.5)\n",
        "  plt.title(f'{num_trials} experiments')\n",
        "  plt.show()"
      ],
      "execution_count": 15,
      "outputs": []
    },
    {
      "cell_type": "code",
      "metadata": {
        "colab": {
          "base_uri": "https://localhost:8080/"
        },
        "id": "rx8AbsDLblyi",
        "outputId": "cbaa723c-a730-446e-df35-86967f1d1f16"
      },
      "source": [
        "np.unique(arr, return_counts=True)[1]/len(arr)"
      ],
      "execution_count": 12,
      "outputs": [
        {
          "output_type": "execute_result",
          "data": {
            "text/plain": [
              "array([0.15841584, 0.34653465, 0.37623762, 0.11881188])"
            ]
          },
          "metadata": {
            "tags": []
          },
          "execution_count": 12
        }
      ]
    },
    {
      "cell_type": "code",
      "metadata": {
        "colab": {
          "base_uri": "https://localhost:8080/",
          "height": 281
        },
        "id": "SRPt7BjpdGjX",
        "outputId": "a14f0fc7-ea1f-4570-8f66-f6d571d5e36a"
      },
      "source": [
        "plot_hist(20)"
      ],
      "execution_count": 16,
      "outputs": [
        {
          "output_type": "display_data",
          "data": {
            "image/png": "[encoded data removed]",
            "text/plain": [
              "<Figure size 432x288 with 1 Axes>"
            ]
          },
          "metadata": {
            "tags": [],
            "needs_background": "light"
          }
        }
      ]
    },
    {
      "cell_type": "code",
      "metadata": {
        "colab": {
          "base_uri": "https://localhost:8080/",
          "height": 281
        },
        "id": "1tR9sRcudYRk",
        "outputId": "beb782b3-6c14-4220-fecc-febe83327ec2"
      },
      "source": [
        "plot_hist(200)"
      ],
      "execution_count": 17,
      "outputs": [
        {
          "output_type": "display_data",
          "data": {
            "image/png": "[encoded data removed]",
            "text/plain": [
              "<Figure size 432x288 with 1 Axes>"
            ]
          },
          "metadata": {
            "tags": [],
            "needs_background": "light"
          }
        }
      ]
    },
    {
      "cell_type": "code",
      "metadata": {
        "colab": {
          "base_uri": "https://localhost:8080/",
          "height": 281
        },
        "id": "TktnbZZhdcnn",
        "outputId": "0a1907ac-a369-4da6-84cf-54c4b9221046"
      },
      "source": [
        "plot_hist(200000)"
      ],
      "execution_count": 18,
      "outputs": [
        {
          "output_type": "display_data",
          "data": {
            "image/png": "[encoded data removed]",
            "text/plain": [
              "<Figure size 432x288 with 1 Axes>"
            ]
          },
          "metadata": {
            "tags": [],
            "needs_background": "light"
          }
        }
      ]
    }
  ]
}